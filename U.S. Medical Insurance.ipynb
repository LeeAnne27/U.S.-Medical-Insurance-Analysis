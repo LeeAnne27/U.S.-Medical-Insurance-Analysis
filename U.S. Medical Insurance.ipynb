{
  "metadata": {
    "kernelspec": {
      "name": "python",
      "display_name": "Python (Pyodide)",
      "language": "python"
    },
    "language_info": {
      "codemirror_mode": {
        "name": "python",
        "version": 3
      },
      "file_extension": ".py",
      "mimetype": "text/x-python",
      "name": "python",
      "nbconvert_exporter": "python",
      "pygments_lexer": "ipython3",
      "version": "3.8"
    }
  },
  "nbformat_minor": 4,
  "nbformat": 4,
  "cells": [
    {
      "cell_type": "markdown",
      "source": "U.S. Medical Insurance Portfolio Project",
      "metadata": {}
    },
    {
      "cell_type": "markdown",
      "source": "Scope: \nFind out the average age of the patients in the dataset.\nAnalyze where a majority of the individuals are from.\nLook at the different costs between smokers vs. non-smokers.\nFigure out what the average age is for someone who has at least one child in this dataset.",
      "metadata": {}
    },
    {
      "cell_type": "code",
      "source": "import csv\nimport pandas as pd",
      "metadata": {
        "trusted": true
      },
      "outputs": [],
      "execution_count": 21
    },
    {
      "cell_type": "code",
      "source": "insurance_csv = csv.reader('insurance.csv')",
      "metadata": {
        "trusted": true
      },
      "outputs": [],
      "execution_count": 4
    },
    {
      "cell_type": "code",
      "source": "\nwith open('insurance.csv') as insurance_csv:\n    #print(insurance_csv.read())\n    insurance_csv_dict = csv.DictReader(insurance_csv)\n    for row in insurance_csv_dict:\n        age.append(int(row['age']))\n        sex.append(row['sex'])\n        bmi.append(float(row['bmi']))\n        children.append(int(row['children']))\n        smoker.append(row['smoker'])\n        region.append(row['region'])\n        charges.append(float(row['charges']))",
      "metadata": {
        "trusted": true
      },
      "outputs": [
        {
          "ename": "<class 'NameError'>",
          "evalue": "name 'age' is not defined",
          "traceback": [
            "\u001b[0;31m---------------------------------------------------------------------------\u001b[0m",
            "\u001b[0;31mNameError\u001b[0m                                 Traceback (most recent call last)",
            "Cell \u001b[0;32mIn[35], line 5\u001b[0m\n\u001b[1;32m      3\u001b[0m insurance_csv_dict \u001b[38;5;241m=\u001b[39m csv\u001b[38;5;241m.\u001b[39mDictReader(insurance_csv)\n\u001b[1;32m      4\u001b[0m \u001b[38;5;28;01mfor\u001b[39;00m row \u001b[38;5;129;01min\u001b[39;00m insurance_csv_dict:\n\u001b[0;32m----> 5\u001b[0m     \u001b[43mage\u001b[49m\u001b[38;5;241m.\u001b[39mappend(\u001b[38;5;28mint\u001b[39m(row[\u001b[38;5;124m'\u001b[39m\u001b[38;5;124mage\u001b[39m\u001b[38;5;124m'\u001b[39m]))\n\u001b[1;32m      6\u001b[0m     sex\u001b[38;5;241m.\u001b[39mappend(row[\u001b[38;5;124m'\u001b[39m\u001b[38;5;124msex\u001b[39m\u001b[38;5;124m'\u001b[39m])\n\u001b[1;32m      7\u001b[0m     bmi\u001b[38;5;241m.\u001b[39mappend(\u001b[38;5;28mfloat\u001b[39m(row[\u001b[38;5;124m'\u001b[39m\u001b[38;5;124mbmi\u001b[39m\u001b[38;5;124m'\u001b[39m]))\n",
            "\u001b[0;31mNameError\u001b[0m: name 'age' is not defined"
          ],
          "output_type": "error"
        }
      ],
      "execution_count": 35
    },
    {
      "cell_type": "code",
      "source": "#create lists for each column in the dataset\nages = []\nsexes = []\nbmis = []\nnum_children = []\nsmoker_statuses = []\nregions = []\ninsurance_charges = []\n\ndef load_list_data(lst, from_csv, column_name):\n    # open csv file\n    with open(from_csv) as csv_info:\n        # read the data from the csv file\n        csv_dict = csv.DictReader(csv_info)\n        # loop through the data in each row of the csv \n        for row in csv_dict:\n            # add the data from each row to a list\n            lst.append(row[column_name])\n        # return the list\n        return lst\n\nages = load_list_data(ages, insurance_csv, age)\n",
      "metadata": {
        "trusted": true
      },
      "outputs": [
        {
          "ename": "<class 'NameError'>",
          "evalue": "name 'age' is not defined",
          "traceback": [
            "\u001b[0;31m---------------------------------------------------------------------------\u001b[0m",
            "\u001b[0;31mNameError\u001b[0m                                 Traceback (most recent call last)",
            "Cell \u001b[0;32mIn[34], line 22\u001b[0m\n\u001b[1;32m     19\u001b[0m         \u001b[38;5;66;03m# return the list\u001b[39;00m\n\u001b[1;32m     20\u001b[0m         \u001b[38;5;28;01mreturn\u001b[39;00m lst\n\u001b[0;32m---> 22\u001b[0m ages \u001b[38;5;241m=\u001b[39m load_list_data(ages, insurance_csv, \u001b[43mage\u001b[49m)\n",
            "\u001b[0;31mNameError\u001b[0m: name 'age' is not defined"
          ],
          "output_type": "error"
        }
      ],
      "execution_count": 34
    },
    {
      "cell_type": "code",
      "source": "#analize age of clients\naverage_age = (sum(age)/len(age))\nprint('The average age of our clients is:' + str(round(average_age, 2)))\n\nmax_age = max(age)\nprint('Our oldest client is ' + str(max_age) + ' years old')\n\nmin_age = min(age)\nprint('Our youngest client is ' + str(min_age) + ' years old')",
      "metadata": {
        "trusted": true
      },
      "outputs": [],
      "execution_count": null
    },
    {
      "cell_type": "code",
      "source": "#count clients by sex\nfemale_count = 0\nmale_count = 0\nfor i in sex:\n    if i == 'female':\n        female_count += 1\n    else:\n        male_count += 1\n\nprint(str(female_count) + ' of our clients are female and ' + str(male_count)  + ' of our clients are male.')",
      "metadata": {
        "trusted": true
      },
      "outputs": [],
      "execution_count": null
    },
    {
      "cell_type": "code",
      "source": "#classifying clients health risk by bmi\nBMI_category = {'a': 18.5, 'b': 24.9, 'c': 29.9, 'd': 34.9, 'e':39.9}\n\nleast = 0\nincreased = 0\nhigh = 0\nvery_high = 0\nextremely_high =0\n\nfor i in bmi:\n    if i < BMI_category['a']:\n        increased += 1\n    elif i >= BMI_category['a'] and i <= BMI_category['b']:\n        least += 1\n    elif i > BMI_category['b'] and i  <= BMI_category['c']:\n        increased += 1\n    elif i > BMI_category['c'] and i  <= BMI_category['d']:\n        high += 1\n    elif i > BMI_category['d'] and i  <= BMI_category['e']:\n        very_high += 1\n    elif i > BMI_category['e']:\n        extremely_high += 1\n\nprint('Based on health risk classification according to BMI, currently we have: \\n' + \n      str(least) + ' clients with least risk of developing health problems,\\n' +\n      str(increased) + ' clients with increased risk of developing health problems,\\n' +\n      str(high) + ' clients with high risk of developing health problems,\\n' +\n      str(very_high) + ' clients with very high risk of developing health problems and \\n' +\n      str(extremely_high) + ' clients with extremely high risk of developing health problems.')",
      "metadata": {
        "trusted": true
      },
      "outputs": [],
      "execution_count": null
    },
    {
      "cell_type": "code",
      "source": "#count clients who has children\nhas_children_count = 0\nno_children = 0\n\nfor i in children:\n    if i > 0:\n        has_children_count += 1\n    else:\n        no_children += 1\n\nprint(str(has_children_count) + ' of our clients have at least one child and ' + str(no_children)  + \" don't.\")",
      "metadata": {
        "trusted": true
      },
      "outputs": [],
      "execution_count": null
    },
    {
      "cell_type": "code",
      "source": "#count clients who smoke\nsmoker_count = 0\nnon_smoker_count = 0\n\nfor i in smoker:\n    if i == 'yes':\n        smoker_count += 1\n    else:\n        non_smoker_count += 1\n\nprint(str(smoker_count) + ' of our clients smoke and ' + str(non_smoker_count)  + \" don't.\")",
      "metadata": {
        "trusted": true
      },
      "outputs": [],
      "execution_count": null
    },
    {
      "cell_type": "code",
      "source": "#count clients by region\nnortheast_clients = 0\nsoutheast_clients = 0\nnorthwest_clients = 0\nsouthwest_clients = 0\nfor i in region:\n    if i == 'northeast':\n        northeast_clients += 1\n    elif i == 'southeast':\n        southeast_clients += 1\n    elif i == 'northwest':\n        northwest_clients += 1\n    else:\n        southwest_clients += 1\n\nprint('We have: \\n' + \n      str(northeast_clients) + ' clients in northeast region,\\n' +\n      str(southeast_clients) + ' clients in southeast region,\\n' +\n      str(northwest_clients) + ' clients in northwest region and \\n' +\n      str(southwest_clients) + ' clients in southwest region.')",
      "metadata": {
        "trusted": true
      },
      "outputs": [],
      "execution_count": null
    },
    {
      "cell_type": "code",
      "source": "#find average charges\n#make new dictionary with sequence (since there are no name)\ninsurance_dictionary = {}\nfor i in range(len(age)):\n    insurance_dictionary[i] = {'Age': age[i], \n                               'Sex': sex[i], \n                               'BMI': bmi[i], \n                               'Children': children[i], \n                               'Smoker': smoker[i], \n                               'Region': region[i], \n                               'Charge': charges[i]}\n\n#I decide to separate smoker and non-smoker first since at glance this is the biggest contributor to the insurance charge\nsmoker_dictionary = {}\nnon_smoker_dictionary = {}\nfor key, value in insurance_dictionary.items():\n    if insurance_dictionary[key]['Smoker'] == 'yes':\n        smoker_dictionary[key] = value\n    else:\n        non_smoker_dictionary[key] = value\n\n#make function to find average charge from dictionary \ndef find_average(dictionary):\n    list = []\n    for i in dictionary:\n        list.append(dictionary[i]['Charge'])\n    result = (sum(list)/len(list))\n    return result\n\n#find smoker and non-smoker average charge\nprint('The average insurance charge for smoker clients is $' + str(round(find_average(smoker_dictionary),2)))\nprint('The average insurance charge for non-smoker clients is $' + str(round(find_average(non_smoker_dictionary),2)))",
      "metadata": {
        "trusted": true
      },
      "outputs": [],
      "execution_count": null
    },
    {
      "cell_type": "code",
      "source": "#from the smoker and non-smoker dictionaries, I find the average charge by age group (<=20, 21-30, 31-40, 41-50, 51-60 and >60)\n#smoker group\nsmoker_U20 = {}\nsmoker_21_30 = {}\nsmoker_31_40 = {}\nsmoker_41_50 = {}\nsmoker_51_60 = {}\nsmoker_O60 = {}\n\nfor key, value in smoker_dictionary.items():\n    age = smoker_dictionary[key]['Age']\n    if age <= 20:\n        smoker_U20[key] = value\n    elif age > 20 and age <= 30:\n        smoker_21_30[key] = value\n    elif age > 30 and age <= 40:\n        smoker_31_40[key] = value\n    elif age > 40 and age <= 50:\n        smoker_41_50[key] = value\n    elif age > 50 and age <= 60:\n        smoker_51_60[key] = value\n    elif age > 60:\n        smoker_O60[key] = value\n\nprint('The average insurance charge for under 20 years old smoker clients is $' + str(round(find_average(smoker_U20),2)))\nprint('The average insurance charge for 21-30 years old smoker clients is $' + str(round(find_average(smoker_21_30),2)))\nprint('The average insurance charge for 31-40 years old smoker clients is $' + str(round(find_average(smoker_31_40),2)))\nprint('The average insurance charge for 41-50 years old smoker clients is $' + str(round(find_average(smoker_41_50),2)))\nprint('The average insurance charge for 51-60 years old smoker clients is $' + str(round(find_average(smoker_51_60),2)))\nprint('The average insurance charge for over 60  years old smoker clients is $' + str(round(find_average(smoker_O60),2)))\n\n#non-smoker group\nnon_smoker_U20 = {}\nnon_smoker_21_30 = {}\nnon_smoker_31_40 = {}\nnon_smoker_41_50 = {}\nnon_smoker_51_60 = {}\nnon_smoker_O60 = {}\n\nfor key, value in non_smoker_dictionary.items():\n    age = non_smoker_dictionary[key]['Age']\n    if age <= 20:\n        non_smoker_U20[key] = value\n    elif age > 20 and age <= 30:\n        non_smoker_21_30[key] = value\n    elif age > 30 and age <= 40:\n        non_smoker_31_40[key] = value\n    elif age > 40 and age <= 50:\n        non_smoker_41_50[key] = value\n    elif age > 50 and age <= 60:\n        non_smoker_51_60[key] = value\n    elif age > 60:\n        non_smoker_O60[key] = value\n\nprint('=======================================================================================================')\nprint('The average insurance charge for under 20 years old non-smoker clients is $' + str(round(find_average(non_smoker_U20),2)))\nprint('The average insurance charge for 21-30 years old non-smoker clients is $' + str(round(find_average(non_smoker_21_30),2)))\nprint('The average insurance charge for 31-40 years old non-smoker clients is $' + str(round(find_average(non_smoker_31_40),2)))\nprint('The average insurance charge for 41-50 years old non-smoker clients is $' + str(round(find_average(non_smoker_41_50),2)))\nprint('The average insurance charge for 51-60 years old non-smoker clients is $' + str(round(find_average(non_smoker_51_60),2)))\nprint('The average insurance charge for over 60  years old non-smoker clients is $' + str(round(find_average(non_smoker_O60),2)))\n\n#Same code can be also applied for other category such as sex group, BMI, whether clients have children or not and also by region.",
      "metadata": {
        "trusted": true
      },
      "outputs": [],
      "execution_count": null
    },
    {
      "cell_type": "code",
      "source": "#comparing the insurance charge between smoker and non-smoker by age group\nfrom tabulate import tabulate\n\ndata = [['Under 20', round(find_average(smoker_U20),2), round(find_average(non_smoker_U20),2)],\n        ['21-30', round(find_average(smoker_21_30),2), round(find_average(non_smoker_21_30),2)],\n        ['31-40', round(find_average(smoker_31_40),2), round(find_average(non_smoker_31_40),2)],\n        ['41-50', round(find_average(smoker_41_50),2), round(find_average(non_smoker_41_50),2)],\n        ['51-60', round(find_average(smoker_51_60),2), round(find_average(non_smoker_51_60),2)], \n        ['Over 60', round(find_average(smoker_O60),2), round(find_average(non_smoker_O60),2)]]\n\nhead = ['Category', 'Smoker', 'Non-smoker']\n\nprint(tabulate(data, headers=head, tablefmt=\"fancy_grid\"))",
      "metadata": {
        "trusted": true
      },
      "outputs": [],
      "execution_count": null
    }
  ]
}